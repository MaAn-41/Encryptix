{
 "cells": [
  {
   "cell_type": "code",
   "execution_count": 3,
   "metadata": {},
   "outputs": [],
   "source": [
    "import random\n",
    "import string\n",
    "\n",
    "def generate_password(length):\n",
    "    # Define all possible characters to use in the password\n",
    "    characters = string.ascii_letters + string.digits + string.punctuation\n",
    "    \n",
    "    while True:\n",
    "        # Generate password using random.sample to ensure complexity requirements\n",
    "        password = ''.join(random.sample(characters, length))\n",
    "        \n",
    "        # Check if password meets complexity requirements\n",
    "        if (any(c.islower() for c in password) and\n",
    "            any(c.isupper() for c in password) and\n",
    "            any(c.isdigit() for c in password) and\n",
    "            any(c in string.punctuation for c in password)):\n",
    "            return password\n",
    "\n"
   ]
  },
  {
   "cell_type": "code",
   "execution_count": 4,
   "metadata": {},
   "outputs": [
    {
     "name": "stdout",
     "output_type": "stream",
     "text": [
      "Generated Password: ,W:i'6ho\n"
     ]
    }
   ],
   "source": [
    "def main():\n",
    "    try:\n",
    "        length = int(input(\"Enter the desired length of the password: \"))\n",
    "        if length <= 0:\n",
    "            raise ValueError(\"Password length should be greater than zero.\")\n",
    "        \n",
    "        password = generate_password(length)\n",
    "        print(\"Generated Password:\", password)\n",
    "    \n",
    "    except ValueError as ve:\n",
    "        print(\"Error:\", ve)\n",
    "    except Exception as e:\n",
    "        print(\"An unexpected error occurred:\", e)\n",
    "\n",
    "if __name__ == \"__main__\":\n",
    "    main()\n"
   ]
  }
 ],
 "metadata": {
  "kernelspec": {
   "display_name": "Python 3",
   "language": "python",
   "name": "python3"
  },
  "language_info": {
   "codemirror_mode": {
    "name": "ipython",
    "version": 3
   },
   "file_extension": ".py",
   "mimetype": "text/x-python",
   "name": "python",
   "nbconvert_exporter": "python",
   "pygments_lexer": "ipython3",
   "version": "3.12.2"
  }
 },
 "nbformat": 4,
 "nbformat_minor": 2
}
