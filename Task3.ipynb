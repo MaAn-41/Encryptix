{
 "cells": [
  {
   "cell_type": "code",
   "execution_count": 12,
   "metadata": {},
   "outputs": [],
   "source": [
    "import tkinter as tk\n",
    "from tkinter import messagebox\n",
    "import random\n",
    "import string"
   ]
  },
  {
   "cell_type": "code",
   "execution_count": 13,
   "metadata": {},
   "outputs": [],
   "source": [
    "\n",
    "class PasswordGeneratorApp:\n",
    "    def __init__(self, root):\n",
    "        self.root = root\n",
    "        self.root.title(\"Password Generator\")\n",
    "        \n",
    "        # Customize background color\n",
    "        self.root.configure(bg='#f0f0f0')\n",
    "        \n",
    "        # Create a frame to hold widgets\n",
    "        self.frame = tk.Frame(self.root, padx=10, pady=10, bg='#f0f0f0')\n",
    "        self.frame.pack(expand=True, fill=tk.BOTH)\n",
    "        \n",
    "        # Label and Entry for password length\n",
    "        self.length_label = tk.Label(self.frame, text=\"Password Length:\", bg='#f0f0f0', font=('Helvetica', 12))\n",
    "        self.length_label.grid(row=0, column=0, pady=5, padx=5, sticky=tk.W)\n",
    "        \n",
    "        self.length_entry = tk.Entry(self.frame, width=10, font=('Helvetica', 12))\n",
    "        self.length_entry.grid(row=0, column=1, pady=5, padx=5)\n",
    "        \n",
    "        # Button to generate password\n",
    "        self.generate_button = tk.Button(self.frame, text=\"Generate Password\", command=self.generate_password, bg='#4CAF50', fg='white', font=('Helvetica', 12, 'bold'))\n",
    "        self.generate_button.grid(row=1, column=0, columnspan=2, pady=10)\n",
    "        \n",
    "        # Text widget to display password\n",
    "        self.password_text = tk.Text(self.frame, height=3, width=30, font=('Helvetica', 14), wrap=tk.WORD)\n",
    "        self.password_text.grid(row=2, column=0, columnspan=2, pady=5)\n",
    "        \n",
    "    def generate_password(self):\n",
    "        try:\n",
    "            length = int(self.length_entry.get())\n",
    "            if length <= 0:\n",
    "                raise ValueError(\"Password length should be greater than zero.\")\n",
    "            \n",
    "            password = self._generate_password(length)\n",
    "            self.password_text.delete(1.0, tk.END)  # Clear previous content\n",
    "            self.password_text.insert(tk.END, password)\n",
    "        \n",
    "        except ValueError as ve:\n",
    "            messagebox.showerror(\"Error\", str(ve))\n",
    "    \n",
    "    def _generate_password(self, length):\n",
    "        # Define all possible characters to use in the password\n",
    "        characters = string.ascii_letters + string.digits + string.punctuation\n",
    "        \n",
    "        while True:\n",
    "            # Generate password using random.sample to ensure complexity requirements\n",
    "            password = ''.join(random.sample(characters, length))\n",
    "            \n",
    "            # Check if password meets complexity requirements\n",
    "            if (any(c.islower() for c in password) and\n",
    "                any(c.isupper() for c in password) and\n",
    "                any(c.isdigit() for c in password) and\n",
    "                any(c in string.punctuation for c in password)):\n",
    "                return password\n",
    "\n",
    "\n"
   ]
  },
  {
   "cell_type": "code",
   "execution_count": 14,
   "metadata": {},
   "outputs": [],
   "source": [
    "def main():\n",
    "    root = tk.Tk()\n",
    "    app = PasswordGeneratorApp(root)\n",
    "    root.mainloop()\n",
    "\n",
    "if __name__ == \"__main__\":\n",
    "    main()"
   ]
  }
 ],
 "metadata": {
  "kernelspec": {
   "display_name": "Python 3",
   "language": "python",
   "name": "python3"
  },
  "language_info": {
   "codemirror_mode": {
    "name": "ipython",
    "version": 3
   },
   "file_extension": ".py",
   "mimetype": "text/x-python",
   "name": "python",
   "nbconvert_exporter": "python",
   "pygments_lexer": "ipython3",
   "version": "3.12.2"
  }
 },
 "nbformat": 4,
 "nbformat_minor": 2
}
