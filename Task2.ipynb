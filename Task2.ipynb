{
 "cells": [
  {
   "cell_type": "code",
   "execution_count": null,
   "metadata": {},
   "outputs": [],
   "source": [
    "def calculator():\n",
    "    # input two numbers\n",
    "    num1 = float(input(\"Enter the first number: \"))\n",
    "    num2 = float(input(\"Enter the second number: \"))\n",
    "\n",
    "    #choose an operation\n",
    "    print(\"Choose an operation:\")\n",
    "    print(\"1. Addition (+)\")\n",
    "    print(\"2. Subtraction (-)\")\n",
    "    print(\"3. Multiplication (*)\")\n",
    "    print(\"4. Division (/)\")\n",
    "    operation = input(\"Enter the operation (+, -, *, /): \")\n",
    "\n",
    "    # Perform the calculation and display the result\n",
    "    if operation == '+':\n",
    "        result = num1 + num2\n",
    "        print(f\"The result of {num1} + {num2} is {result}\")\n",
    "    elif operation == '-':\n",
    "        result = num1 - num2\n",
    "        print(f\"The result of {num1} - {num2} is {result}\")\n",
    "    elif operation == '*':\n",
    "        result = num1 * num2\n",
    "        print(f\"The result of {num1} * {num2} is {result}\")\n",
    "    elif operation == '/':\n",
    "        if num2 != 0:\n",
    "            result = num1 / num2\n",
    "            print(f\"The result of {num1} / {num2} is {result}\")\n",
    "        else:\n",
    "            print(\"Error: Division by zero is not allowed.\")\n",
    "    else:\n",
    "        print(\"Invalid operation. Please choose from +, -, *, or /.\")\n",
    "\n",
    "calculator()\n"
   ]
  }
 ],
 "metadata": {
  "language_info": {
   "name": "python"
  }
 },
 "nbformat": 4,
 "nbformat_minor": 2
}
